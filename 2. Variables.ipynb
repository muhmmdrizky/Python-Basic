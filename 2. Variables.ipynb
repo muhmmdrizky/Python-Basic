{
 "cells": [
  {
   "cell_type": "code",
   "execution_count": 1,
   "id": "e36200ed",
   "metadata": {},
   "outputs": [],
   "source": [
    "x = 5"
   ]
  },
  {
   "cell_type": "code",
   "execution_count": 5,
   "id": "7f2404bb",
   "metadata": {},
   "outputs": [
    {
     "data": {
      "text/plain": [
       "5"
      ]
     },
     "execution_count": 5,
     "metadata": {},
     "output_type": "execute_result"
    }
   ],
   "source": [
    "x"
   ]
  },
  {
   "cell_type": "code",
   "execution_count": 3,
   "id": "f3d8c75e",
   "metadata": {},
   "outputs": [],
   "source": [
    "nama = 'Rizky'"
   ]
  },
  {
   "cell_type": "code",
   "execution_count": 4,
   "id": "4e0eccfd",
   "metadata": {},
   "outputs": [
    {
     "data": {
      "text/plain": [
       "'Rizky'"
      ]
     },
     "execution_count": 4,
     "metadata": {},
     "output_type": "execute_result"
    }
   ],
   "source": [
    "nama"
   ]
  },
  {
   "cell_type": "code",
   "execution_count": 6,
   "id": "251f8a8c",
   "metadata": {},
   "outputs": [],
   "source": [
    "#mengganti nilai di dalam variabel \n",
    "nama = 'Muhammad'"
   ]
  },
  {
   "cell_type": "code",
   "execution_count": 7,
   "id": "f48067bb",
   "metadata": {},
   "outputs": [
    {
     "data": {
      "text/plain": [
       "'Muhammad'"
      ]
     },
     "execution_count": 7,
     "metadata": {},
     "output_type": "execute_result"
    }
   ],
   "source": [
    "nama"
   ]
  },
  {
   "cell_type": "code",
   "execution_count": 8,
   "id": "5c9a2b08",
   "metadata": {},
   "outputs": [],
   "source": [
    "#Aturan dalam membuat nama variabel \n",
    "#Sebuah variabel harus dimulai dengan huruf atau karakter underscore\n",
    "#Ada baiknya variabel tidak dimulai dengan angka\n",
    "#Sebuah variabel terdiri atas karakter alpha-numeric dan unrscore (A-z, 0-9, dan _)"
   ]
  },
  {
   "cell_type": "code",
   "execution_count": 9,
   "id": "983098f4",
   "metadata": {},
   "outputs": [],
   "source": [
    "#Cotoh yang direkomendasikan\n",
    "nama_pertama = 'A'\n",
    "nama_2 = 'B'\n",
    "_nama_ketiga = 'C' "
   ]
  },
  {
   "cell_type": "code",
   "execution_count": 10,
   "id": "48761ac1",
   "metadata": {},
   "outputs": [
    {
     "name": "stdout",
     "output_type": "stream",
     "text": [
      "A\n",
      "B\n",
      "C\n"
     ]
    }
   ],
   "source": [
    "print(nama_pertama)\n",
    "print(nama_2)\n",
    "print(_nama_ketiga)"
   ]
  },
  {
   "cell_type": "code",
   "execution_count": 11,
   "id": "347267d9",
   "metadata": {},
   "outputs": [],
   "source": [
    "#Nama variabel bersifat case-sensitive (nama, Nama, dan NAMA merupakan tiga variabel yang berbeda)"
   ]
  },
  {
   "cell_type": "code",
   "execution_count": 12,
   "id": "bf7f02e6",
   "metadata": {},
   "outputs": [],
   "source": [
    "#Berikut ini 3 variabel yang berbeda\n",
    "nama = 'Muhammad'\n",
    "Nama = 'Rizky'\n",
    "NAMA = 'MR'"
   ]
  }
 ],
 "metadata": {
  "kernelspec": {
   "display_name": "Python 3 (ipykernel)",
   "language": "python",
   "name": "python3"
  },
  "language_info": {
   "codemirror_mode": {
    "name": "ipython",
    "version": 3
   },
   "file_extension": ".py",
   "mimetype": "text/x-python",
   "name": "python",
   "nbconvert_exporter": "python",
   "pygments_lexer": "ipython3",
   "version": "3.10.5"
  }
 },
 "nbformat": 4,
 "nbformat_minor": 5
}
