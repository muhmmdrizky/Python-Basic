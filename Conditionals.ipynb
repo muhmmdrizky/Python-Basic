{
 "cells": [
  {
   "cell_type": "code",
   "execution_count": 4,
   "id": "13d81e3d",
   "metadata": {},
   "outputs": [
    {
     "name": "stdout",
     "output_type": "stream",
     "text": [
      "Nabung dulu, duitnya belum cukup\n"
     ]
    }
   ],
   "source": [
    "laptop1 = 5000000\n",
    "laptop2 = 6000000\n",
    "uang_rizky = 4000000\n",
    "\n",
    "if uang_rizky >= laptop1:\n",
    "    print(\"Gaskeun beli laptop1\")\n",
    "elif uang_rizky >= laptop2:\n",
    "    print(\"Gaskeun beli laptop2\")\n",
    "else:\n",
    "    print(\"Nabung dulu, duitnya belum cukup\")"
   ]
  },
  {
   "cell_type": "code",
   "execution_count": 1,
   "id": "2be1f586",
   "metadata": {},
   "outputs": [
    {
     "name": "stdout",
     "output_type": "stream",
     "text": [
      "Rizky memenuhi target dan mendapat insentifff\n"
     ]
    }
   ],
   "source": [
    "sales_rizky = 20\n",
    "target_penjualan = 10\n",
    "target_insentif = 20\n",
    "\n",
    "if sales_rizky >= target_penjualan:\n",
    "    if sales_rizky >= target_insentif:\n",
    "        print(\"Rizky memenuhi target dan mendapat insentifff\")\n",
    "    else:\n",
    "        print(\"Rizky memenuhi target\")\n",
    "else:\n",
    "    print(\"Rizky belum memenuhi target\")"
   ]
  }
 ],
 "metadata": {
  "kernelspec": {
   "display_name": "Python 3 (ipykernel)",
   "language": "python",
   "name": "python3"
  },
  "language_info": {
   "codemirror_mode": {
    "name": "ipython",
    "version": 3
   },
   "file_extension": ".py",
   "mimetype": "text/x-python",
   "name": "python",
   "nbconvert_exporter": "python",
   "pygments_lexer": "ipython3",
   "version": "3.10.5"
  }
 },
 "nbformat": 4,
 "nbformat_minor": 5
}
