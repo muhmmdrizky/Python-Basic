{
 "cells": [
  {
   "cell_type": "code",
   "execution_count": 14,
   "id": "13d81e3d",
   "metadata": {},
   "outputs": [
    {
     "name": "stdout",
     "output_type": "stream",
     "text": [
      "Rizky bisa beli Laptop 1\n"
     ]
    }
   ],
   "source": [
    "laptop1 = 7000000\n",
    "laptop2 = 6000000\n",
    "uang_rizky = 10000000\n",
    "\n",
    "if uang_rizky >= laptop1:\n",
    "    print(\"Rizky bisa beli Laptop 1\")\n",
    "elif uang_rizky >= laptop2 and uang_rizky <= laptop1:\n",
    "    print(\"Silakan beli Laptop 2\")\n",
    "else:\n",
    "    print(\"Nabung dulu, duitnya belum cukup\")"
   ]
  },
  {
   "cell_type": "code",
   "execution_count": 21,
   "id": "2be1f586",
   "metadata": {},
   "outputs": [
    {
     "name": "stdout",
     "output_type": "stream",
     "text": [
      "Rizky memenuhi target\n"
     ]
    }
   ],
   "source": [
    "sales_rizky = 11\n",
    "target_penjualan = 10\n",
    "target_insentif = 20\n",
    "\n",
    "if sales_rizky >= target_penjualan:\n",
    "    if sales_rizky >= target_insentif:\n",
    "        print(\"Rizky memenuhi target dan mendapat insentif\")\n",
    "    else:\n",
    "        print(\"Rizky memenuhi target\")\n",
    "else:\n",
    "    print(\"Rizky belum memenuhi target\")"
   ]
  },
  {
   "cell_type": "code",
   "execution_count": null,
   "id": "e98cb0c2",
   "metadata": {},
   "outputs": [],
   "source": []
  }
 ],
 "metadata": {
  "kernelspec": {
   "display_name": "Python 3 (ipykernel)",
   "language": "python",
   "name": "python3"
  },
  "language_info": {
   "codemirror_mode": {
    "name": "ipython",
    "version": 3
   },
   "file_extension": ".py",
   "mimetype": "text/x-python",
   "name": "python",
   "nbconvert_exporter": "python",
   "pygments_lexer": "ipython3",
   "version": "3.9.12"
  }
 },
 "nbformat": 4,
 "nbformat_minor": 5
}
