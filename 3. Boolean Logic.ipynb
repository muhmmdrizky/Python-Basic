{
 "cells": [
  {
   "cell_type": "code",
   "execution_count": 1,
   "id": "fa0992fa",
   "metadata": {},
   "outputs": [],
   "source": [
    "permen_anto = 10\n",
    "permen_andi = 9"
   ]
  },
  {
   "cell_type": "code",
   "execution_count": 2,
   "id": "be98bcf9",
   "metadata": {},
   "outputs": [
    {
     "data": {
      "text/plain": [
       "False"
      ]
     },
     "execution_count": 2,
     "metadata": {},
     "output_type": "execute_result"
    }
   ],
   "source": [
    "permen_anto == permen_andi"
   ]
  },
  {
   "cell_type": "code",
   "execution_count": 3,
   "id": "ee5ac7a2",
   "metadata": {},
   "outputs": [],
   "source": [
    "#output tersebut bermakna pernyataan bahwa banyak permen yang dimiliki Anto sama dengan yang dimiliki Andi adalah salah"
   ]
  },
  {
   "cell_type": "code",
   "execution_count": 4,
   "id": "efff4235",
   "metadata": {},
   "outputs": [
    {
     "data": {
      "text/plain": [
       "True"
      ]
     },
     "execution_count": 4,
     "metadata": {},
     "output_type": "execute_result"
    }
   ],
   "source": [
    "permen_anto != permen_andi"
   ]
  },
  {
   "cell_type": "code",
   "execution_count": 5,
   "id": "3938c53f",
   "metadata": {},
   "outputs": [
    {
     "data": {
      "text/plain": [
       "True"
      ]
     },
     "execution_count": 5,
     "metadata": {},
     "output_type": "execute_result"
    }
   ],
   "source": [
    "permen_anto > permen_andi"
   ]
  },
  {
   "cell_type": "code",
   "execution_count": 6,
   "id": "78d929e7",
   "metadata": {},
   "outputs": [
    {
     "data": {
      "text/plain": [
       "False"
      ]
     },
     "execution_count": 6,
     "metadata": {},
     "output_type": "execute_result"
    }
   ],
   "source": [
    "permen_anto < permen_andi"
   ]
  },
  {
   "cell_type": "code",
   "execution_count": 7,
   "id": "fabff6b4",
   "metadata": {},
   "outputs": [],
   "source": [
    "#Boolean Logic\n",
    "#Operasi dasar boolean ada 3 (AND, OR, NOT)"
   ]
  },
  {
   "cell_type": "code",
   "execution_count": 8,
   "id": "256ecdf8",
   "metadata": {},
   "outputs": [
    {
     "data": {
      "text/plain": [
       "True"
      ]
     },
     "execution_count": 8,
     "metadata": {},
     "output_type": "execute_result"
    }
   ],
   "source": [
    "#Contoh operasi boolean AND\n",
    "True and True"
   ]
  },
  {
   "cell_type": "code",
   "execution_count": 9,
   "id": "4cf2dfe1",
   "metadata": {},
   "outputs": [
    {
     "data": {
      "text/plain": [
       "False"
      ]
     },
     "execution_count": 9,
     "metadata": {},
     "output_type": "execute_result"
    }
   ],
   "source": [
    "True and False"
   ]
  },
  {
   "cell_type": "code",
   "execution_count": 10,
   "id": "ee0ad971",
   "metadata": {},
   "outputs": [
    {
     "data": {
      "text/plain": [
       "True"
      ]
     },
     "execution_count": 10,
     "metadata": {},
     "output_type": "execute_result"
    }
   ],
   "source": [
    "3 < 4 and 3 > 1"
   ]
  },
  {
   "cell_type": "code",
   "execution_count": 11,
   "id": "739d7caf",
   "metadata": {},
   "outputs": [
    {
     "data": {
      "text/plain": [
       "False"
      ]
     },
     "execution_count": 11,
     "metadata": {},
     "output_type": "execute_result"
    }
   ],
   "source": [
    "3 < 4 and 3 < 2"
   ]
  },
  {
   "cell_type": "code",
   "execution_count": 12,
   "id": "a5f3eaac",
   "metadata": {},
   "outputs": [],
   "source": [
    "#Operasi boolean AND harus menyatakan kondisi keduanya bernilai True"
   ]
  },
  {
   "cell_type": "code",
   "execution_count": 13,
   "id": "79d4ae68",
   "metadata": {},
   "outputs": [
    {
     "data": {
      "text/plain": [
       "True"
      ]
     },
     "execution_count": 13,
     "metadata": {},
     "output_type": "execute_result"
    }
   ],
   "source": [
    "#Contoh operasi boolean OR\n",
    "True or False"
   ]
  },
  {
   "cell_type": "code",
   "execution_count": 14,
   "id": "1f961c2c",
   "metadata": {},
   "outputs": [
    {
     "data": {
      "text/plain": [
       "False"
      ]
     },
     "execution_count": 14,
     "metadata": {},
     "output_type": "execute_result"
    }
   ],
   "source": [
    "False or False"
   ]
  },
  {
   "cell_type": "code",
   "execution_count": 15,
   "id": "5f4d54a2",
   "metadata": {},
   "outputs": [
    {
     "data": {
      "text/plain": [
       "True"
      ]
     },
     "execution_count": 15,
     "metadata": {},
     "output_type": "execute_result"
    }
   ],
   "source": [
    "3 < 4 or 3 < 2"
   ]
  },
  {
   "cell_type": "code",
   "execution_count": 16,
   "id": "6f55dba4",
   "metadata": {},
   "outputs": [
    {
     "data": {
      "text/plain": [
       "False"
      ]
     },
     "execution_count": 16,
     "metadata": {},
     "output_type": "execute_result"
    }
   ],
   "source": [
    "1 > 2 or 3 < 2"
   ]
  },
  {
   "cell_type": "code",
   "execution_count": null,
   "id": "436159e4",
   "metadata": {},
   "outputs": [],
   "source": []
  }
 ],
 "metadata": {
  "kernelspec": {
   "display_name": "Python 3 (ipykernel)",
   "language": "python",
   "name": "python3"
  },
  "language_info": {
   "codemirror_mode": {
    "name": "ipython",
    "version": 3
   },
   "file_extension": ".py",
   "mimetype": "text/x-python",
   "name": "python",
   "nbconvert_exporter": "python",
   "pygments_lexer": "ipython3",
   "version": "3.10.5"
  }
 },
 "nbformat": 4,
 "nbformat_minor": 5
}
