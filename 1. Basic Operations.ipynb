{
 "cells": [
  {
   "cell_type": "code",
   "execution_count": 2,
   "id": "7f5609fe",
   "metadata": {},
   "outputs": [
    {
     "name": "stdout",
     "output_type": "stream",
     "text": [
      "Hello World!\n"
     ]
    }
   ],
   "source": [
    "print(\"Hello World!\");"
   ]
  },
  {
   "cell_type": "code",
   "execution_count": 4,
   "id": "0025e3a8",
   "metadata": {},
   "outputs": [
    {
     "data": {
      "text/plain": [
       "12"
      ]
     },
     "execution_count": 4,
     "metadata": {},
     "output_type": "execute_result"
    }
   ],
   "source": [
    "12"
   ]
  },
  {
   "cell_type": "code",
   "execution_count": 5,
   "id": "7d8045f3",
   "metadata": {},
   "outputs": [
    {
     "data": {
      "text/plain": [
       "int"
      ]
     },
     "execution_count": 5,
     "metadata": {},
     "output_type": "execute_result"
    }
   ],
   "source": [
    "type(12)"
   ]
  },
  {
   "cell_type": "code",
   "execution_count": 6,
   "id": "7b34c738",
   "metadata": {},
   "outputs": [
    {
     "data": {
      "text/plain": [
       "3.14"
      ]
     },
     "execution_count": 6,
     "metadata": {},
     "output_type": "execute_result"
    }
   ],
   "source": [
    "3.14"
   ]
  },
  {
   "cell_type": "code",
   "execution_count": 7,
   "id": "c436e3c2",
   "metadata": {},
   "outputs": [
    {
     "data": {
      "text/plain": [
       "float"
      ]
     },
     "execution_count": 7,
     "metadata": {},
     "output_type": "execute_result"
    }
   ],
   "source": [
    "type(3.14)"
   ]
  },
  {
   "cell_type": "code",
   "execution_count": 8,
   "id": "bf066046",
   "metadata": {},
   "outputs": [
    {
     "data": {
      "text/plain": [
       "str"
      ]
     },
     "execution_count": 8,
     "metadata": {},
     "output_type": "execute_result"
    }
   ],
   "source": [
    "#tipe objek string\n",
    "type('ayam')"
   ]
  },
  {
   "cell_type": "code",
   "execution_count": 9,
   "id": "90a3a095",
   "metadata": {},
   "outputs": [
    {
     "data": {
      "text/plain": [
       "list"
      ]
     },
     "execution_count": 9,
     "metadata": {},
     "output_type": "execute_result"
    }
   ],
   "source": [
    "#tipe objek list\n",
    "type(['Buku', 'Pensil', 'Pulpen'])"
   ]
  },
  {
   "cell_type": "code",
   "execution_count": 10,
   "id": "8c36c539",
   "metadata": {},
   "outputs": [
    {
     "data": {
      "text/plain": [
       "tuple"
      ]
     },
     "execution_count": 10,
     "metadata": {},
     "output_type": "execute_result"
    }
   ],
   "source": [
    "#tipe objek tuple\n",
    "type((1, 'Susu', 2, 'Kopi'))"
   ]
  },
  {
   "cell_type": "code",
   "execution_count": 11,
   "id": "6cf4f692",
   "metadata": {},
   "outputs": [
    {
     "data": {
      "text/plain": [
       "set"
      ]
     },
     "execution_count": 11,
     "metadata": {},
     "output_type": "execute_result"
    }
   ],
   "source": [
    "#tipe objek set\n",
    "type({1, 2, 3, 4})"
   ]
  },
  {
   "cell_type": "code",
   "execution_count": 12,
   "id": "cacada10",
   "metadata": {},
   "outputs": [
    {
     "data": {
      "text/plain": [
       "dict"
      ]
     },
     "execution_count": 12,
     "metadata": {},
     "output_type": "execute_result"
    }
   ],
   "source": [
    "#tipe objek dictionary\n",
    "type({'makanan':'pizza', 'minuman':'kopi'})"
   ]
  },
  {
   "cell_type": "code",
   "execution_count": 13,
   "id": "7f3c843a",
   "metadata": {},
   "outputs": [
    {
     "name": "stdout",
     "output_type": "stream",
     "text": [
      "1010\n"
     ]
    }
   ],
   "source": [
    "asik = '1010'\n",
    "print(asik)"
   ]
  },
  {
   "cell_type": "code",
   "execution_count": 14,
   "id": "c753dee9",
   "metadata": {},
   "outputs": [
    {
     "data": {
      "text/plain": [
       "str"
      ]
     },
     "execution_count": 14,
     "metadata": {},
     "output_type": "execute_result"
    }
   ],
   "source": [
    "type(asik)"
   ]
  },
  {
   "cell_type": "code",
   "execution_count": 15,
   "id": "f64cae4a",
   "metadata": {},
   "outputs": [],
   "source": [
    "#mengubah tipe data string menjadi int\n",
    "angka = int(asik)"
   ]
  },
  {
   "cell_type": "code",
   "execution_count": 16,
   "id": "d3487ad3",
   "metadata": {},
   "outputs": [
    {
     "name": "stdout",
     "output_type": "stream",
     "text": [
      "1010\n"
     ]
    }
   ],
   "source": [
    "print(angka)"
   ]
  },
  {
   "cell_type": "code",
   "execution_count": 17,
   "id": "8d37e597",
   "metadata": {},
   "outputs": [
    {
     "data": {
      "text/plain": [
       "int"
      ]
     },
     "execution_count": 17,
     "metadata": {},
     "output_type": "execute_result"
    }
   ],
   "source": [
    "#cek tipe data setelah diubah\n",
    "type(angka)"
   ]
  },
  {
   "cell_type": "code",
   "execution_count": 18,
   "id": "e8a944d6",
   "metadata": {},
   "outputs": [
    {
     "data": {
      "text/plain": [
       "1010.0"
      ]
     },
     "execution_count": 18,
     "metadata": {},
     "output_type": "execute_result"
    }
   ],
   "source": [
    "#mengubah format angka menjadi float\n",
    "float(angka)"
   ]
  },
  {
   "cell_type": "code",
   "execution_count": 19,
   "id": "76faf015",
   "metadata": {},
   "outputs": [
    {
     "data": {
      "text/plain": [
       "'1010'"
      ]
     },
     "execution_count": 19,
     "metadata": {},
     "output_type": "execute_result"
    }
   ],
   "source": [
    "#mengembalikan kembali ke tipe data string\n",
    "str(angka)"
   ]
  },
  {
   "cell_type": "code",
   "execution_count": 20,
   "id": "bd24e769",
   "metadata": {},
   "outputs": [],
   "source": [
    "#operator matematika\n",
    "#Tambah (+)\n",
    "#Kurang (-)\n",
    "#Kali (*)\n",
    "#Pangkat (**)\n",
    "#Pembagian (/)\n",
    "#Pembagian dengan output pembulatan ke bawah (//)\n",
    "#Hasil sisa pembagian (%)"
   ]
  },
  {
   "cell_type": "code",
   "execution_count": 21,
   "id": "d4b7347e",
   "metadata": {},
   "outputs": [
    {
     "data": {
      "text/plain": [
       "12"
      ]
     },
     "execution_count": 21,
     "metadata": {},
     "output_type": "execute_result"
    }
   ],
   "source": [
    "#Penjumlahan\n",
    "5 + 7"
   ]
  },
  {
   "cell_type": "code",
   "execution_count": 22,
   "id": "1d621601",
   "metadata": {},
   "outputs": [
    {
     "data": {
      "text/plain": [
       "7"
      ]
     },
     "execution_count": 22,
     "metadata": {},
     "output_type": "execute_result"
    }
   ],
   "source": [
    "#Pengurangan \n",
    "15-8"
   ]
  },
  {
   "cell_type": "code",
   "execution_count": 23,
   "id": "abe496e9",
   "metadata": {},
   "outputs": [
    {
     "data": {
      "text/plain": [
       "25"
      ]
     },
     "execution_count": 23,
     "metadata": {},
     "output_type": "execute_result"
    }
   ],
   "source": [
    "#Perkalian\n",
    "5*5"
   ]
  },
  {
   "cell_type": "code",
   "execution_count": 24,
   "id": "5ffb5822",
   "metadata": {},
   "outputs": [
    {
     "data": {
      "text/plain": [
       "4.0"
      ]
     },
     "execution_count": 24,
     "metadata": {},
     "output_type": "execute_result"
    }
   ],
   "source": [
    "#Pembagian\n",
    "12/3"
   ]
  },
  {
   "cell_type": "code",
   "execution_count": 25,
   "id": "4b76265f",
   "metadata": {},
   "outputs": [
    {
     "data": {
      "text/plain": [
       "10000"
      ]
     },
     "execution_count": 25,
     "metadata": {},
     "output_type": "execute_result"
    }
   ],
   "source": [
    "#Pangkat\n",
    "100**2"
   ]
  },
  {
   "cell_type": "code",
   "execution_count": 26,
   "id": "77371ff8",
   "metadata": {},
   "outputs": [
    {
     "data": {
      "text/plain": [
       "2"
      ]
     },
     "execution_count": 26,
     "metadata": {},
     "output_type": "execute_result"
    }
   ],
   "source": [
    "#Floor division\n",
    "#Simbol floor division adalah satu hal unik di Python\n",
    "#Di python cukup dengan //\n",
    "#Akan menghasilkan pembagian dengan pembulatan ke bawah \n",
    "5//2"
   ]
  },
  {
   "cell_type": "code",
   "execution_count": 27,
   "id": "dbf0c1ac",
   "metadata": {},
   "outputs": [
    {
     "data": {
      "text/plain": [
       "1"
      ]
     },
     "execution_count": 27,
     "metadata": {},
     "output_type": "execute_result"
    }
   ],
   "source": [
    "#Modulo\n",
    "#Operasi modulo menggunakan tanda %\n",
    "#Di dalam pemrograman, operasi modulo akan menghasilkan sisa pembagian\n",
    "7%3"
   ]
  },
  {
   "cell_type": "code",
   "execution_count": 28,
   "id": "daae3a86",
   "metadata": {},
   "outputs": [
    {
     "data": {
      "text/plain": [
       "25"
      ]
     },
     "execution_count": 28,
     "metadata": {},
     "output_type": "execute_result"
    }
   ],
   "source": [
    "#Urutan Operasi\n",
    "5 + 2 * 10"
   ]
  },
  {
   "cell_type": "code",
   "execution_count": 29,
   "id": "70c397e1",
   "metadata": {},
   "outputs": [
    {
     "data": {
      "text/plain": [
       "56"
      ]
     },
     "execution_count": 29,
     "metadata": {},
     "output_type": "execute_result"
    }
   ],
   "source": [
    "(5 + 2) * 2 ** 3"
   ]
  }
 ],
 "metadata": {
  "kernelspec": {
   "display_name": "Python 3 (ipykernel)",
   "language": "python",
   "name": "python3"
  },
  "language_info": {
   "codemirror_mode": {
    "name": "ipython",
    "version": 3
   },
   "file_extension": ".py",
   "mimetype": "text/x-python",
   "name": "python",
   "nbconvert_exporter": "python",
   "pygments_lexer": "ipython3",
   "version": "3.10.5"
  }
 },
 "nbformat": 4,
 "nbformat_minor": 5
}
